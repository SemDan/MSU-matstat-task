{
 "cells": [
  {
   "cell_type": "code",
   "execution_count": null,
   "metadata": {},
   "outputs": [],
   "source": [
    "import numpy as np\n",
    "import pandas as pd\n",
    "import scipy.stats as stats"
   ]
  },
  {
   "attachments": {},
   "cell_type": "markdown",
   "metadata": {},
   "source": [
    "Все доверительные интервалы построены для покрытия с вероятностью в 95%. Коэффициенит Стьюдента принимался равным 2."
   ]
  },
  {
   "attachments": {},
   "cell_type": "markdown",
   "metadata": {},
   "source": [
    "Доверительный интервал для математического ожидания с неизвестным параметром стандартного отклонения."
   ]
  },
  {
   "cell_type": "code",
   "execution_count": null,
   "metadata": {},
   "outputs": [
    {
     "name": "stdout",
     "output_type": "stream",
     "text": [
      "50: [-0.19015806887854902, 0.43145502646444955]\n",
      "500: [-0.11653067735777628, 0.06628341590743714]\n",
      "10000: [-0.01710863819666359, 0.02306060397047887]\n"
     ]
    }
   ],
   "source": [
    "vals = np.array([50, 500, 10000])\n",
    "for i in range(0, np.size(vals)):\n",
    "    s = np.random.normal(size = vals[i])\n",
    "    m = np.mean(s)\n",
    "    deviation = lambda x: (x - m) ** 2\n",
    "    devs = deviation(s)\n",
    "\n",
    "    d = np.sqrt(1/(np.size(s)-1) * np.sum(devs))\n",
    "\n",
    "    delta = 2 * d / np.sqrt(np.size(s))\n",
    "    upper_bound = m + delta\n",
    "    lower_bound = m - delta\n",
    "    print(f'{vals[i]}: [{lower_bound}, {upper_bound}]')"
   ]
  },
  {
   "attachments": {},
   "cell_type": "markdown",
   "metadata": {},
   "source": [
    "Доверительный интервал для математического ожидания с известным параметром стандартного отклонения."
   ]
  },
  {
   "cell_type": "code",
   "execution_count": null,
   "metadata": {},
   "outputs": [
    {
     "name": "stdout",
     "output_type": "stream",
     "text": [
      "50: [-0.5271158062270344, 0.03856961872220366]\n",
      "500: [-0.0882755765517081, 0.09060986164827507]\n",
      "10000: [-0.021859670825930055, 0.018140329174069946]\n"
     ]
    }
   ],
   "source": [
    "vals = np.array([50, 500, 10000])\n",
    "for i in range(0, np.size(vals)):\n",
    "    s = np.random.normal(size = vals[i])\n",
    "    m = np.mean(s)\n",
    "\n",
    "    delta = 2 * 1 / np.sqrt(np.size(s))\n",
    "    upper_bound = m + delta\n",
    "    lower_bound = m - delta\n",
    "    print(f'{vals[i]}: [{lower_bound}, {upper_bound}]')"
   ]
  },
  {
   "cell_type": "code",
   "execution_count": null,
   "metadata": {},
   "outputs": [],
   "source": []
  }
 ],
 "metadata": {
  "kernelspec": {
   "display_name": "Python 3",
   "language": "python",
   "name": "python3"
  },
  "language_info": {
   "codemirror_mode": {
    "name": "ipython",
    "version": 3
   },
   "file_extension": ".py",
   "mimetype": "text/x-python",
   "name": "python",
   "nbconvert_exporter": "python",
   "pygments_lexer": "ipython3",
   "version": "3.11.3"
  },
  "orig_nbformat": 4
 },
 "nbformat": 4,
 "nbformat_minor": 2
}
